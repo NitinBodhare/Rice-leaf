{
  "cells": [
    {
      "cell_type": "code",
      "execution_count": null,
      "metadata": {
        "colab": {
          "base_uri": "https://localhost:8080/"
        },
        "id": "IgBj0GW5xvL3",
        "outputId": "2a737b04-031f-4532-e344-1c2cd782b9e9"
      },
      "outputs": [
        {
          "name": "stdout",
          "output_type": "stream",
          "text": [
            "Requirement already satisfied: tensorflow in /usr/local/lib/python3.11/dist-packages (2.18.0)\n",
            "Requirement already satisfied: absl-py>=1.0.0 in /usr/local/lib/python3.11/dist-packages (from tensorflow) (1.4.0)\n",
            "Requirement already satisfied: astunparse>=1.6.0 in /usr/local/lib/python3.11/dist-packages (from tensorflow) (1.6.3)\n",
            "Requirement already satisfied: flatbuffers>=24.3.25 in /usr/local/lib/python3.11/dist-packages (from tensorflow) (25.2.10)\n",
            "Requirement already satisfied: gast!=0.5.0,!=0.5.1,!=0.5.2,>=0.2.1 in /usr/local/lib/python3.11/dist-packages (from tensorflow) (0.6.0)\n",
            "Requirement already satisfied: google-pasta>=0.1.1 in /usr/local/lib/python3.11/dist-packages (from tensorflow) (0.2.0)\n",
            "Requirement already satisfied: libclang>=13.0.0 in /usr/local/lib/python3.11/dist-packages (from tensorflow) (18.1.1)\n",
            "Requirement already satisfied: opt-einsum>=2.3.2 in /usr/local/lib/python3.11/dist-packages (from tensorflow) (3.4.0)\n",
            "Requirement already satisfied: packaging in /usr/local/lib/python3.11/dist-packages (from tensorflow) (25.0)\n",
            "Requirement already satisfied: protobuf!=4.21.0,!=4.21.1,!=4.21.2,!=4.21.3,!=4.21.4,!=4.21.5,<6.0.0dev,>=3.20.3 in /usr/local/lib/python3.11/dist-packages (from tensorflow) (5.29.5)\n",
            "Requirement already satisfied: requests<3,>=2.21.0 in /usr/local/lib/python3.11/dist-packages (from tensorflow) (2.32.3)\n",
            "Requirement already satisfied: setuptools in /usr/local/lib/python3.11/dist-packages (from tensorflow) (75.2.0)\n",
            "Requirement already satisfied: six>=1.12.0 in /usr/local/lib/python3.11/dist-packages (from tensorflow) (1.17.0)\n",
            "Requirement already satisfied: termcolor>=1.1.0 in /usr/local/lib/python3.11/dist-packages (from tensorflow) (3.1.0)\n",
            "Requirement already satisfied: typing-extensions>=3.6.6 in /usr/local/lib/python3.11/dist-packages (from tensorflow) (4.14.1)\n",
            "Requirement already satisfied: wrapt>=1.11.0 in /usr/local/lib/python3.11/dist-packages (from tensorflow) (1.17.2)\n",
            "Requirement already satisfied: grpcio<2.0,>=1.24.3 in /usr/local/lib/python3.11/dist-packages (from tensorflow) (1.74.0)\n",
            "Requirement already satisfied: tensorboard<2.19,>=2.18 in /usr/local/lib/python3.11/dist-packages (from tensorflow) (2.18.0)\n",
            "Requirement already satisfied: keras>=3.5.0 in /usr/local/lib/python3.11/dist-packages (from tensorflow) (3.8.0)\n",
            "Requirement already satisfied: numpy<2.1.0,>=1.26.0 in /usr/local/lib/python3.11/dist-packages (from tensorflow) (2.0.2)\n",
            "Requirement already satisfied: h5py>=3.11.0 in /usr/local/lib/python3.11/dist-packages (from tensorflow) (3.14.0)\n",
            "Requirement already satisfied: ml-dtypes<0.5.0,>=0.4.0 in /usr/local/lib/python3.11/dist-packages (from tensorflow) (0.4.1)\n",
            "Requirement already satisfied: tensorflow-io-gcs-filesystem>=0.23.1 in /usr/local/lib/python3.11/dist-packages (from tensorflow) (0.37.1)\n",
            "Requirement already satisfied: wheel<1.0,>=0.23.0 in /usr/local/lib/python3.11/dist-packages (from astunparse>=1.6.0->tensorflow) (0.45.1)\n",
            "Requirement already satisfied: rich in /usr/local/lib/python3.11/dist-packages (from keras>=3.5.0->tensorflow) (13.9.4)\n",
            "Requirement already satisfied: namex in /usr/local/lib/python3.11/dist-packages (from keras>=3.5.0->tensorflow) (0.1.0)\n",
            "Requirement already satisfied: optree in /usr/local/lib/python3.11/dist-packages (from keras>=3.5.0->tensorflow) (0.17.0)\n",
            "Requirement already satisfied: charset-normalizer<4,>=2 in /usr/local/lib/python3.11/dist-packages (from requests<3,>=2.21.0->tensorflow) (3.4.2)\n",
            "Requirement already satisfied: idna<4,>=2.5 in /usr/local/lib/python3.11/dist-packages (from requests<3,>=2.21.0->tensorflow) (3.10)\n",
            "Requirement already satisfied: urllib3<3,>=1.21.1 in /usr/local/lib/python3.11/dist-packages (from requests<3,>=2.21.0->tensorflow) (2.5.0)\n",
            "Requirement already satisfied: certifi>=2017.4.17 in /usr/local/lib/python3.11/dist-packages (from requests<3,>=2.21.0->tensorflow) (2025.7.14)\n",
            "Requirement already satisfied: markdown>=2.6.8 in /usr/local/lib/python3.11/dist-packages (from tensorboard<2.19,>=2.18->tensorflow) (3.8.2)\n",
            "Requirement already satisfied: tensorboard-data-server<0.8.0,>=0.7.0 in /usr/local/lib/python3.11/dist-packages (from tensorboard<2.19,>=2.18->tensorflow) (0.7.2)\n",
            "Requirement already satisfied: werkzeug>=1.0.1 in /usr/local/lib/python3.11/dist-packages (from tensorboard<2.19,>=2.18->tensorflow) (3.1.3)\n",
            "Requirement already satisfied: MarkupSafe>=2.1.1 in /usr/local/lib/python3.11/dist-packages (from werkzeug>=1.0.1->tensorboard<2.19,>=2.18->tensorflow) (3.0.2)\n",
            "Requirement already satisfied: markdown-it-py>=2.2.0 in /usr/local/lib/python3.11/dist-packages (from rich->keras>=3.5.0->tensorflow) (3.0.0)\n",
            "Requirement already satisfied: pygments<3.0.0,>=2.13.0 in /usr/local/lib/python3.11/dist-packages (from rich->keras>=3.5.0->tensorflow) (2.19.2)\n",
            "Requirement already satisfied: mdurl~=0.1 in /usr/local/lib/python3.11/dist-packages (from markdown-it-py>=2.2.0->rich->keras>=3.5.0->tensorflow) (0.1.2)\n"
          ]
        }
      ],
      "source": [
        "pip install tensorflow"
      ]
    },
    {
      "cell_type": "code",
      "execution_count": null,
      "metadata": {
        "id": "PYkZG0WHyVQq"
      },
      "outputs": [],
      "source": [
        "import matplotlib.pyplot as plt\n",
        "import numpy as np\n",
        "import cv2\n",
        "import os\n",
        "import PIL\n",
        "import tensorflow as tf\n",
        "\n",
        "from tensorflow import keras\n",
        "from tensorflow.keras import layers\n",
        "from tensorflow.keras.models import Sequential\n"
      ]
    },
    {
      "cell_type": "code",
      "execution_count": null,
      "metadata": {
        "colab": {
          "background_save": true,
          "base_uri": "https://localhost:8080/"
        },
        "id": "qiAA-UP01hRw",
        "outputId": "68903955-172e-4a34-c0db-48b4260b235f"
      },
      "outputs": [
        {
          "name": "stdout",
          "output_type": "stream",
          "text": [
            "Archive:  /content/Bacterial leaf blight-20200814T055237Z-001.zip\n",
            "replace extracted_folder/Bacterial leaf blight/DSC_0406.JPG? [y]es, [n]o, [A]ll, [N]one, [r]ename: A\n",
            "  inflating: extracted_folder/Bacterial leaf blight/DSC_0406.JPG  \n",
            "  inflating: extracted_folder/Bacterial leaf blight/DSC_0405.JPG  \n",
            "  inflating: extracted_folder/Bacterial leaf blight/DSC_0404.JPG  \n",
            "  inflating: extracted_folder/Bacterial leaf blight/DSC_0403.JPG  \n",
            "  inflating: extracted_folder/Bacterial leaf blight/DSC_0402.JPG  \n",
            "  inflating: extracted_folder/Bacterial leaf blight/DSC_0401.JPG  \n",
            "  inflating: extracted_folder/Bacterial leaf blight/DSC_0400.JPG  \n",
            "  inflating: extracted_folder/Bacterial leaf blight/DSC_0399.JPG  \n",
            "  inflating: extracted_folder/Bacterial leaf blight/DSC_0398.JPG  \n",
            "  inflating: extracted_folder/Bacterial leaf blight/DSC_0397.JPG  \n",
            "  inflating: extracted_folder/Bacterial leaf blight/DSC_0395.JPG  \n",
            "  inflating: extracted_folder/Bacterial leaf blight/DSC_0393.JPG  \n",
            "  inflating: extracted_folder/Bacterial leaf blight/DSC_0390.JPG  \n",
            "  inflating: extracted_folder/Bacterial leaf blight/DSC_0389.JPG  \n",
            "  inflating: extracted_folder/Bacterial leaf blight/DSC_0388.JPG  \n",
            "  inflating: extracted_folder/Bacterial leaf blight/DSC_0386.JPG  \n",
            "  inflating: extracted_folder/Bacterial leaf blight/DSC_0385.jpg  \n",
            "  inflating: extracted_folder/Bacterial leaf blight/DSC_0381.JPG  \n",
            "  inflating: extracted_folder/Bacterial leaf blight/DSC_0372.JPG  \n",
            "  inflating: extracted_folder/Bacterial leaf blight/DSC_0392.JPG  \n",
            "  inflating: extracted_folder/Bacterial leaf blight/DSC_0367.JPG  \n",
            "  inflating: extracted_folder/Bacterial leaf blight/DSC_0702.jpg  \n",
            "  inflating: extracted_folder/Bacterial leaf blight/DSC_0701.jpg  \n",
            "  inflating: extracted_folder/Bacterial leaf blight/DSC_0700.jpg  \n",
            "  inflating: extracted_folder/Bacterial leaf blight/DSC_0370.jpg  \n",
            "  inflating: extracted_folder/Bacterial leaf blight/DSC_0366.jpg  \n",
            "  inflating: extracted_folder/Bacterial leaf blight/DSC_0384.JPG  \n",
            "  inflating: extracted_folder/Bacterial leaf blight/DSC_0703.JPG  \n",
            "  inflating: extracted_folder/Bacterial leaf blight/DSC_0383.JPG  \n",
            "  inflating: extracted_folder/Bacterial leaf blight/DSC_0382.JPG  \n",
            "  inflating: extracted_folder/Bacterial leaf blight/DSC_0380.JPG  \n",
            "  inflating: extracted_folder/Bacterial leaf blight/DSC_0376.JPG  \n",
            "  inflating: extracted_folder/Bacterial leaf blight/DSC_0375.JPG  \n",
            "  inflating: extracted_folder/Bacterial leaf blight/DSC_0374.JPG  \n",
            "  inflating: extracted_folder/Bacterial leaf blight/DSC_0373.JPG  \n",
            "  inflating: extracted_folder/Bacterial leaf blight/DSC_0365.JPG  \n",
            "  inflating: extracted_folder/Bacterial leaf blight/DSC_0379.JPG  \n",
            "  inflating: extracted_folder/Bacterial leaf blight/DSC_0377.JPG  \n",
            "  inflating: extracted_folder/Bacterial leaf blight/DSC_0378.JPG  \n",
            "  inflating: extracted_folder/Bacterial leaf blight/DSC_0396.JPG  \n",
            "Archive:  /content/Brown spot-20200814T055208Z-001.zip\n",
            "replace extracted_folder/Brown spot/DSC_0394.jpg? [y]es, [n]o, [A]ll, [N]one, [r]ename: "
          ]
        }
      ],
      "source": [
        "!unzip \"/content/Bacterial leaf blight-20200814T055237Z-001.zip\" -d extracted_folder\n",
        "!unzip \"/content/Brown spot-20200814T055208Z-001.zip\" -d extracted_folder\n",
        "!unzip \"/content/Leaf smut-20200814T055530Z-001.zip\" -d extracted_folder"
      ]
    },
    {
      "cell_type": "code",
      "execution_count": null,
      "metadata": {
        "id": "KDsIAXvr4MC_"
      },
      "outputs": [],
      "source": []
    }
  ],
  "metadata": {
    "accelerator": "GPU",
    "colab": {
      "gpuType": "T4",
      "provenance": []
    },
    "kernelspec": {
      "display_name": "Python 3",
      "name": "python3"
    }
  },
  "nbformat": 4,
  "nbformat_minor": 0
}